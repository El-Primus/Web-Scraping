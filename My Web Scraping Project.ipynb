{
 "cells": [
  {
   "cell_type": "code",
   "execution_count": 1,
   "metadata": {},
   "outputs": [],
   "source": [
    "import requests\n",
    "import pandas as pd\n",
    "from bs4 import BeautifulSoup as bs\n",
    "import re"
   ]
  },
  {
   "cell_type": "markdown",
   "metadata": {},
   "source": [
    "# getting texts"
   ]
  },
  {
   "cell_type": "code",
   "execution_count": 2,
   "metadata": {},
   "outputs": [],
   "source": [
    "website  = requests.get(\"http://datasciencecourse.org/\")"
   ]
  },
  {
   "cell_type": "code",
   "execution_count": 3,
   "metadata": {},
   "outputs": [
    {
     "data": {
      "text/plain": [
       "['Data science is the study and practice of how we can extract insight and knowledge from large amounts of data. It is a burgeoning field, currently attracting substantial demand from both academia and industry.',\n",
       " 'This course provides a practical introduction to the “full stack” of data science analysis, including data collection and processing, data visualization and presentation, statistical model building using machine learning, and big data techniques for scaling these methods. Topics covered include: collecting and processing data using relational methods, time series approaches, graph and network models, free text analysis, and spatial geographic methods; analyzing the data using a variety of statistical and machine learning methods include linear and non-linear regression and classification, unsupervised learning and anomaly detection, plus advanced machine learning methods like kernel approaches, boosting, or deep learning; visualizing and presenting data, particularly focusing the case of high-dimensional data; and applying these methods to big data settings, where multiple machines and distributed computation are needed to fully leverage the data.',\n",
       " 'As the course name suggests, this course will highlight the practical aspects of data science, with a focus on implementing and making use of the above techniques. Students will complete programming homework that emphasizes practical understanding of the methods described in the course. In addition, students will develop a tutorial on an advanced topic, and will complete a group project that applies these data science techniques to a practical application chosen by the team; these two longer assignments will be done in lieu of a midterm or final.']"
      ]
     },
     "execution_count": 3,
     "metadata": {},
     "output_type": "execute_result"
    }
   ],
   "source": [
    "web_soup = bs(website.content, 'lxml')\n",
    "#print(web_soup.prettify())\n",
    "description = web_soup.select('div.row p')\n",
    "course_description = description[0:3]\n",
    "real_description = [item.get_text() for item in course_description]\n",
    "real_description"
   ]
  },
  {
   "cell_type": "code",
   "execution_count": 4,
   "metadata": {},
   "outputs": [],
   "source": [
    "sky_news = requests.get('https://www.skysports.com/football/news/11667/12482706/cristiano-ronaldo-criticises-france-football-editor-over-lionel-messi-ballon-dor-claims')"
   ]
  },
  {
   "cell_type": "code",
   "execution_count": 5,
   "metadata": {},
   "outputs": [
    {
     "data": {
      "text/plain": [
       "['Football',\n",
       " 'Pascal Ferré told the New York Times: \"Ronaldo has only one ambition and that is to retire with more Ballon d\\'Or [awards] than Messi. I know because he has told me.\"; Ronaldo claims Ferré \\'lied\\' during the interview; Lionel Messi wins seventh Ballon d\\'Or',\n",
       " 'By  Allan Valente',\n",
       " 'Tuesday 30 November 2021 14:31, UK',\n",
       " 'Cristiano Ronaldo has hit back at the editor of France Football who claimed the Manchester United forward’s only ambition is to “retire with more Ballons d’Or than Lionel Messi”.',\n",
       " 'The Portuguese, who has won the prestigious accolade five times, took to social media on Monday to refute the claims made by Pascal Ferré, who spoke to the New York Times ahead of the 2021 awards.',\n",
       " \"Messi won the men's award for a record seventh time at the ceremony in Paris on Monday.\",\n",
       " 'Ferré told the New York Times: \"Ronaldo has only one ambition and that is to retire with more Ballon d\\'Or [awards] than Messi. I know because he has told me.\"',\n",
       " 'However, Ronaldo has disputed that version of events and took to Instagram to claim that Ferré \"lied\" during the interview.',\n",
       " '\"Today\\'s outcome explains the comments by Pascal Ferré last week, when he stated that I confided in him that my only ambition was to finish my career with more Ballons d\\'Or than Lionel Messi,\" a Ronaldo statement said.',\n",
       " '\"Pascal Ferré lied and used my name to promote himself and to promote the publication that he works for. It\\'s unacceptable for the person responsible for handing out such a prestigious award to lie in this way and to show disrespect to someone who has always respected France Football and the Ballon d\\'Or. He lied again today to justify my absence from the ceremony due to an alleged quarantine that has no reason to exist.',\n",
       " '\"I always congratulate whoever wins, in tandem with the sportsmanship and fair play that have underpinned my career since the start and I do that because I\\'m never against anyone. I always win for myself and for the clubs that I represent. I win for myself and for those who love me. I don\\'t win against anyone.\"',\n",
       " 'Ronaldo added: \"My biggest ambition in my career is to win trophies at club and international level, for the clubs that I play for and my national team. My biggest ambition in my career is to set a good example for everyone who is or wants to be a professional footballer. My biggest ambition in my career is to have my name written in gold in world football history.',\n",
       " '\"I\\'ll finish up by saying that my focus is already on Manchester United\\'s next game and everything that we can still achieve this season alongside my teammates and our fans. As for the rest, the rest is just that…\"',\n",
       " 'Sky Sports News has contacted France Football for comment.',\n",
       " '© 2021 Sky UK']"
      ]
     },
     "execution_count": 5,
     "metadata": {},
     "output_type": "execute_result"
    }
   ],
   "source": [
    "sky_news_soup = bs(sky_news.content, 'lxml')\n",
    "content = sky_news_soup.select('p')\n",
    "texts = [str(item.get_text()).strip() for item in content]\n",
    "texts"
   ]
  },
  {
   "cell_type": "markdown",
   "metadata": {},
   "source": [
    "# Downloading images"
   ]
  },
  {
   "cell_type": "code",
   "execution_count": 6,
   "metadata": {},
   "outputs": [
    {
     "data": {
      "text/plain": [
       "[<figure class=\"sdc-article-image__figure\">\n",
       " <div class=\"sdc-article-image__wrapper\" data-aspect-ratio=\"16/9\">\n",
       " <img alt=\"Cristiano Ronaldo reacts during Manchester United&amp;#39;s match vs Atalanta \" class=\"sdc-article-image__item\" intrinsicsize=\"768x432\" loading=\"lazy\" sizes=\"(min-width: 1024px) 1024px, 100vw\" src=\"https://e0.365dm.com/21/10/768x432/skysports-cristiano-ronaldo_5553556.jpg?20211020210951\" srcset=\"https://e0.365dm.com/21/10/384x216/skysports-cristiano-ronaldo_5553556.jpg?20211020210951 380w, https://e0.365dm.com/21/10/768x432/skysports-cristiano-ronaldo_5553556.jpg?20211020210951 760w, https://e0.365dm.com/21/10/1600x900/skysports-cristiano-ronaldo_5553556.jpg?20211020210951 1024w, https://e0.365dm.com/21/10/2048x1152/skysports-cristiano-ronaldo_5553556.jpg?20211020210951 2048w\"/>\n",
       " </div>\n",
       " </figure>, <figure class=\"sdc-article-image__figure\">\n",
       " <div class=\"sdc-article-image__wrapper\" data-aspect-ratio=\"16/9\">\n",
       " <img alt=\"Lionel Messi is the bookmakers&amp;#39; favourite to win a seventh Ballon d&amp;#39;Or after lifting the Copa America with Argentina \" class=\"sdc-article-image__item\" intrinsicsize=\"768x432\" loading=\"lazy\" sizes=\"(min-width: 1024px) 1024px, 100vw\" src=\"https://e0.365dm.com/21/10/768x432/skysports-lionel-messi_5538523.jpg?20211007165350\" srcset=\"https://e0.365dm.com/21/10/384x216/skysports-lionel-messi_5538523.jpg?20211007165350 380w, https://e0.365dm.com/21/10/768x432/skysports-lionel-messi_5538523.jpg?20211007165350 760w, https://e0.365dm.com/21/10/1600x900/skysports-lionel-messi_5538523.jpg?20211007165350 1024w, https://e0.365dm.com/21/10/2048x1152/skysports-lionel-messi_5538523.jpg?20211007165350 2048w\"/>\n",
       " </div>\n",
       " <figcaption class=\"sdc-article-image__caption\">\n",
       " <span class=\"sdc-article-image__visually-hidden\">Image:</span>\n",
       " <span class=\"sdc-article-image__caption-text\">Lionel Messi has won a seventh Ballon d'Or after lifting the Copa America with Argentina </span>\n",
       " </figcaption>\n",
       " </figure>, <figure class=\"sdc-article-image__figure\">\n",
       " <div class=\"sdc-article-image__wrapper\" data-aspect-ratio=\"16/9\">\n",
       " <img alt=\"PA - Cristiano Ronaldo and Lionel Messi shake hands before Portugal vs Argentina friendly international\" class=\"sdc-article-image__item\" intrinsicsize=\"768x432\" loading=\"lazy\" sizes=\"(min-width: 1024px) 1024px, 100vw\" src=\"https://e0.365dm.com/21/03/768x432/skysports-pa-cristiano-ronaldo_5289443.jpg?20210301191952\" srcset=\"https://e0.365dm.com/21/03/384x216/skysports-pa-cristiano-ronaldo_5289443.jpg?20210301191952 380w, https://e0.365dm.com/21/03/768x432/skysports-pa-cristiano-ronaldo_5289443.jpg?20210301191952 760w, https://e0.365dm.com/21/03/1600x900/skysports-pa-cristiano-ronaldo_5289443.jpg?20210301191952 1024w, https://e0.365dm.com/21/03/2048x1152/skysports-pa-cristiano-ronaldo_5289443.jpg?20210301191952 2048w\"/>\n",
       " </div>\n",
       " <figcaption class=\"sdc-article-image__caption\">\n",
       " <span class=\"sdc-article-image__visually-hidden\">Image:</span>\n",
       " <span class=\"sdc-article-image__caption-text\">Cristiano Ronaldo and Lionel Messi shake hands </span>\n",
       " </figcaption>\n",
       " </figure>, <figure class=\"sdc-site-tile__figure\">\n",
       " <div aria-hidden=\"true\" class=\"sdc-site-tile__image-wrap\">\n",
       " <picture>\n",
       " <source media=\"(min-width: 600px)\" sizes=\"(max-width: 599px) 150px, (min-width: 600px) 300px\" srcset=\"https://e0.365dm.com/21/10/384x216/skysports-gss-dth_5531211.jpg?20211006090846 400w, https://e0.365dm.com/21/10/768x432/skysports-gss-dth_5531211.jpg?20211006090846 1000w\">\n",
       " <img alt=\"Get Sky Sports\" class=\"sdc-site-tile__image\" loading=\"lazy\" src=\"https://e0.365dm.com/21/10/768x432/skysports-gss-dth_5531211.jpg?20211006090846\"/>\n",
       " </source></picture>\n",
       " </div>\n",
       " </figure>, <figure class=\"sdc-site-tile__figure\">\n",
       " <div aria-hidden=\"true\" class=\"sdc-site-tile__image-wrap\">\n",
       " <picture>\n",
       " <source media=\"(min-width: 600px)\" sizes=\"(max-width: 599px) 150px, (min-width: 600px) 300px\" srcset=\"https://e0.365dm.com/21/11/384x216/skysports-skycinema-upgrade_5592046.jpg?20211122133927 400w, https://e0.365dm.com/21/11/768x432/skysports-skycinema-upgrade_5592046.jpg?20211122133927 1000w\">\n",
       " <img alt=\"Sky Cinema\" class=\"sdc-site-tile__image\" loading=\"lazy\" src=\"https://e0.365dm.com/21/11/768x432/skysports-skycinema-upgrade_5592046.jpg?20211122133927\"/>\n",
       " </source></picture>\n",
       " </div>\n",
       " </figure>]"
      ]
     },
     "execution_count": 6,
     "metadata": {},
     "output_type": "execute_result"
    }
   ],
   "source": [
    "url = 'https://www.skysports.com/football/news/11667/12482706/cristiano-ronaldo-criticises-france-football-editor-over-lionel-messi-ballon-dor-claims'\n",
    "image = sky_news_soup.select('figure')\n",
    "image"
   ]
  },
  {
   "cell_type": "code",
   "execution_count": 7,
   "metadata": {},
   "outputs": [
    {
     "data": {
      "text/plain": [
       "<figure class=\"sdc-article-image__figure\">\n",
       "<div class=\"sdc-article-image__wrapper\" data-aspect-ratio=\"16/9\">\n",
       "<img alt=\"PA - Cristiano Ronaldo and Lionel Messi shake hands before Portugal vs Argentina friendly international\" class=\"sdc-article-image__item\" intrinsicsize=\"768x432\" loading=\"lazy\" sizes=\"(min-width: 1024px) 1024px, 100vw\" src=\"https://e0.365dm.com/21/03/768x432/skysports-pa-cristiano-ronaldo_5289443.jpg?20210301191952\" srcset=\"https://e0.365dm.com/21/03/384x216/skysports-pa-cristiano-ronaldo_5289443.jpg?20210301191952 380w, https://e0.365dm.com/21/03/768x432/skysports-pa-cristiano-ronaldo_5289443.jpg?20210301191952 760w, https://e0.365dm.com/21/03/1600x900/skysports-pa-cristiano-ronaldo_5289443.jpg?20210301191952 1024w, https://e0.365dm.com/21/03/2048x1152/skysports-pa-cristiano-ronaldo_5289443.jpg?20210301191952 2048w\"/>\n",
       "</div>\n",
       "<figcaption class=\"sdc-article-image__caption\">\n",
       "<span class=\"sdc-article-image__visually-hidden\">Image:</span>\n",
       "<span class=\"sdc-article-image__caption-text\">Cristiano Ronaldo and Lionel Messi shake hands </span>\n",
       "</figcaption>\n",
       "</figure>"
      ]
     },
     "execution_count": 7,
     "metadata": {},
     "output_type": "execute_result"
    }
   ],
   "source": [
    "image[2]"
   ]
  },
  {
   "cell_type": "code",
   "execution_count": 8,
   "metadata": {},
   "outputs": [],
   "source": [
    "image_url = 'https://e0.365dm.com/21/03/768x432/skysports-pa-cristiano-ronaldo_5289443.jpg?20210301191952'\n",
    "image_url\n",
    "full_url = url + image_url\n",
    "full_url\n",
    "img_data = requests.get(full_url).content\n",
    "with open('The GOATS.jpg', 'wb') as handler:\n",
    "    handler.write(img_data)"
   ]
  },
  {
   "cell_type": "code",
   "execution_count": 9,
   "metadata": {},
   "outputs": [],
   "source": [
    "image2_url = \"https://e0.365dm.com/21/10/768x432/skysports-cristiano-ronaldo_5553556.jpg?20211020210951\"\n",
    "full_url2 = url + image2_url\n",
    "img_data = requests.get(full_url2).content\n",
    "with open('Ronaldo.jpg', 'wb') as handler:\n",
    "    handler.write(img_data)"
   ]
  },
  {
   "cell_type": "markdown",
   "metadata": {},
   "source": [
    "# Downloading Tables"
   ]
  },
  {
   "cell_type": "code",
   "execution_count": 10,
   "metadata": {},
   "outputs": [],
   "source": [
    "sportTable = requests.get('https://www.skysports.com/premier-league-table')"
   ]
  },
  {
   "cell_type": "code",
   "execution_count": 11,
   "metadata": {},
   "outputs": [],
   "source": [
    "premTableSoup = bs(sportTable.content, 'lxml')"
   ]
  },
  {
   "cell_type": "code",
   "execution_count": 14,
   "metadata": {},
   "outputs": [],
   "source": [
    "prem_table = premTableSoup.select('table')\n",
    "prem_table_columns = premTableSoup.find_all('th')\n",
    "table_column_names = [column.string for column in prem_table_columns]\n",
    "table_rows = premTableSoup.find('tbody').find_all('tr')"
   ]
  },
  {
   "cell_type": "code",
   "execution_count": 15,
   "metadata": {},
   "outputs": [
    {
     "name": "stdout",
     "output_type": "stream",
     "text": [
      "['1', 'Chelsea', '13', '9', '3', '1', '31', '5', '26', '30']\n"
     ]
    }
   ],
   "source": [
    "l = []\n",
    "for tr in table_rows:\n",
    "    td = tr.find_all('td')\n",
    "    row = [str(tr.get_text()).strip() for tr in td] \n",
    "    l.append(row[:10])\n",
    "print(l[0])"
   ]
  },
  {
   "cell_type": "code",
   "execution_count": 16,
   "metadata": {},
   "outputs": [
    {
     "data": {
      "text/html": [
       "<div>\n",
       "<style scoped>\n",
       "    .dataframe tbody tr th:only-of-type {\n",
       "        vertical-align: middle;\n",
       "    }\n",
       "\n",
       "    .dataframe tbody tr th {\n",
       "        vertical-align: top;\n",
       "    }\n",
       "\n",
       "    .dataframe thead th {\n",
       "        text-align: right;\n",
       "    }\n",
       "</style>\n",
       "<table border=\"1\" class=\"dataframe\">\n",
       "  <thead>\n",
       "    <tr style=\"text-align: right;\">\n",
       "      <th></th>\n",
       "      <th>Team</th>\n",
       "      <th>Pl</th>\n",
       "      <th>W</th>\n",
       "      <th>D</th>\n",
       "      <th>L</th>\n",
       "      <th>F</th>\n",
       "      <th>A</th>\n",
       "      <th>GD</th>\n",
       "      <th>Pts</th>\n",
       "    </tr>\n",
       "    <tr>\n",
       "      <th>#</th>\n",
       "      <th></th>\n",
       "      <th></th>\n",
       "      <th></th>\n",
       "      <th></th>\n",
       "      <th></th>\n",
       "      <th></th>\n",
       "      <th></th>\n",
       "      <th></th>\n",
       "      <th></th>\n",
       "    </tr>\n",
       "  </thead>\n",
       "  <tbody>\n",
       "    <tr>\n",
       "      <td>1</td>\n",
       "      <td>Chelsea</td>\n",
       "      <td>13</td>\n",
       "      <td>9</td>\n",
       "      <td>3</td>\n",
       "      <td>1</td>\n",
       "      <td>31</td>\n",
       "      <td>5</td>\n",
       "      <td>26</td>\n",
       "      <td>30</td>\n",
       "    </tr>\n",
       "    <tr>\n",
       "      <td>2</td>\n",
       "      <td>Manchester City</td>\n",
       "      <td>13</td>\n",
       "      <td>9</td>\n",
       "      <td>2</td>\n",
       "      <td>2</td>\n",
       "      <td>27</td>\n",
       "      <td>7</td>\n",
       "      <td>20</td>\n",
       "      <td>29</td>\n",
       "    </tr>\n",
       "    <tr>\n",
       "      <td>3</td>\n",
       "      <td>Liverpool</td>\n",
       "      <td>13</td>\n",
       "      <td>8</td>\n",
       "      <td>4</td>\n",
       "      <td>1</td>\n",
       "      <td>39</td>\n",
       "      <td>11</td>\n",
       "      <td>28</td>\n",
       "      <td>28</td>\n",
       "    </tr>\n",
       "    <tr>\n",
       "      <td>4</td>\n",
       "      <td>West Ham United</td>\n",
       "      <td>13</td>\n",
       "      <td>7</td>\n",
       "      <td>2</td>\n",
       "      <td>4</td>\n",
       "      <td>24</td>\n",
       "      <td>16</td>\n",
       "      <td>8</td>\n",
       "      <td>23</td>\n",
       "    </tr>\n",
       "    <tr>\n",
       "      <td>5</td>\n",
       "      <td>Arsenal</td>\n",
       "      <td>13</td>\n",
       "      <td>7</td>\n",
       "      <td>2</td>\n",
       "      <td>4</td>\n",
       "      <td>15</td>\n",
       "      <td>17</td>\n",
       "      <td>-2</td>\n",
       "      <td>23</td>\n",
       "    </tr>\n",
       "    <tr>\n",
       "      <td>6</td>\n",
       "      <td>Wolverhampton Wanderers</td>\n",
       "      <td>13</td>\n",
       "      <td>6</td>\n",
       "      <td>2</td>\n",
       "      <td>5</td>\n",
       "      <td>12</td>\n",
       "      <td>12</td>\n",
       "      <td>0</td>\n",
       "      <td>20</td>\n",
       "    </tr>\n",
       "    <tr>\n",
       "      <td>7</td>\n",
       "      <td>Tottenham Hotspur</td>\n",
       "      <td>12</td>\n",
       "      <td>6</td>\n",
       "      <td>1</td>\n",
       "      <td>5</td>\n",
       "      <td>11</td>\n",
       "      <td>17</td>\n",
       "      <td>-6</td>\n",
       "      <td>19</td>\n",
       "    </tr>\n",
       "    <tr>\n",
       "      <td>8</td>\n",
       "      <td>Manchester United</td>\n",
       "      <td>13</td>\n",
       "      <td>5</td>\n",
       "      <td>3</td>\n",
       "      <td>5</td>\n",
       "      <td>21</td>\n",
       "      <td>22</td>\n",
       "      <td>-1</td>\n",
       "      <td>18</td>\n",
       "    </tr>\n",
       "    <tr>\n",
       "      <td>9</td>\n",
       "      <td>Brighton and Hove Albion</td>\n",
       "      <td>13</td>\n",
       "      <td>4</td>\n",
       "      <td>6</td>\n",
       "      <td>3</td>\n",
       "      <td>12</td>\n",
       "      <td>14</td>\n",
       "      <td>-2</td>\n",
       "      <td>18</td>\n",
       "    </tr>\n",
       "    <tr>\n",
       "      <td>10</td>\n",
       "      <td>Leicester City</td>\n",
       "      <td>13</td>\n",
       "      <td>5</td>\n",
       "      <td>3</td>\n",
       "      <td>5</td>\n",
       "      <td>20</td>\n",
       "      <td>23</td>\n",
       "      <td>-3</td>\n",
       "      <td>18</td>\n",
       "    </tr>\n",
       "    <tr>\n",
       "      <td>11</td>\n",
       "      <td>Brentford</td>\n",
       "      <td>13</td>\n",
       "      <td>4</td>\n",
       "      <td>4</td>\n",
       "      <td>5</td>\n",
       "      <td>17</td>\n",
       "      <td>17</td>\n",
       "      <td>0</td>\n",
       "      <td>16</td>\n",
       "    </tr>\n",
       "    <tr>\n",
       "      <td>12</td>\n",
       "      <td>Crystal Palace</td>\n",
       "      <td>14</td>\n",
       "      <td>3</td>\n",
       "      <td>7</td>\n",
       "      <td>4</td>\n",
       "      <td>19</td>\n",
       "      <td>20</td>\n",
       "      <td>-1</td>\n",
       "      <td>16</td>\n",
       "    </tr>\n",
       "    <tr>\n",
       "      <td>13</td>\n",
       "      <td>Aston Villa</td>\n",
       "      <td>13</td>\n",
       "      <td>5</td>\n",
       "      <td>1</td>\n",
       "      <td>7</td>\n",
       "      <td>18</td>\n",
       "      <td>21</td>\n",
       "      <td>-3</td>\n",
       "      <td>16</td>\n",
       "    </tr>\n",
       "    <tr>\n",
       "      <td>14</td>\n",
       "      <td>Everton</td>\n",
       "      <td>13</td>\n",
       "      <td>4</td>\n",
       "      <td>3</td>\n",
       "      <td>6</td>\n",
       "      <td>16</td>\n",
       "      <td>20</td>\n",
       "      <td>-4</td>\n",
       "      <td>15</td>\n",
       "    </tr>\n",
       "    <tr>\n",
       "      <td>15</td>\n",
       "      <td>Leeds United</td>\n",
       "      <td>14</td>\n",
       "      <td>3</td>\n",
       "      <td>6</td>\n",
       "      <td>5</td>\n",
       "      <td>13</td>\n",
       "      <td>20</td>\n",
       "      <td>-7</td>\n",
       "      <td>15</td>\n",
       "    </tr>\n",
       "    <tr>\n",
       "      <td>16</td>\n",
       "      <td>Southampton</td>\n",
       "      <td>13</td>\n",
       "      <td>3</td>\n",
       "      <td>5</td>\n",
       "      <td>5</td>\n",
       "      <td>11</td>\n",
       "      <td>18</td>\n",
       "      <td>-7</td>\n",
       "      <td>14</td>\n",
       "    </tr>\n",
       "    <tr>\n",
       "      <td>17</td>\n",
       "      <td>Watford</td>\n",
       "      <td>13</td>\n",
       "      <td>4</td>\n",
       "      <td>1</td>\n",
       "      <td>8</td>\n",
       "      <td>18</td>\n",
       "      <td>24</td>\n",
       "      <td>-6</td>\n",
       "      <td>13</td>\n",
       "    </tr>\n",
       "    <tr>\n",
       "      <td>18</td>\n",
       "      <td>Norwich City</td>\n",
       "      <td>14</td>\n",
       "      <td>2</td>\n",
       "      <td>4</td>\n",
       "      <td>8</td>\n",
       "      <td>8</td>\n",
       "      <td>28</td>\n",
       "      <td>-20</td>\n",
       "      <td>10</td>\n",
       "    </tr>\n",
       "    <tr>\n",
       "      <td>19</td>\n",
       "      <td>Burnley</td>\n",
       "      <td>12</td>\n",
       "      <td>1</td>\n",
       "      <td>6</td>\n",
       "      <td>5</td>\n",
       "      <td>14</td>\n",
       "      <td>20</td>\n",
       "      <td>-6</td>\n",
       "      <td>9</td>\n",
       "    </tr>\n",
       "    <tr>\n",
       "      <td>20</td>\n",
       "      <td>Newcastle United</td>\n",
       "      <td>14</td>\n",
       "      <td>0</td>\n",
       "      <td>7</td>\n",
       "      <td>7</td>\n",
       "      <td>16</td>\n",
       "      <td>30</td>\n",
       "      <td>-14</td>\n",
       "      <td>7</td>\n",
       "    </tr>\n",
       "  </tbody>\n",
       "</table>\n",
       "</div>"
      ],
      "text/plain": [
       "                        Team  Pl  W  D  L   F   A   GD Pts\n",
       "#                                                         \n",
       "1                    Chelsea  13  9  3  1  31   5   26  30\n",
       "2            Manchester City  13  9  2  2  27   7   20  29\n",
       "3                  Liverpool  13  8  4  1  39  11   28  28\n",
       "4            West Ham United  13  7  2  4  24  16    8  23\n",
       "5                    Arsenal  13  7  2  4  15  17   -2  23\n",
       "6    Wolverhampton Wanderers  13  6  2  5  12  12    0  20\n",
       "7          Tottenham Hotspur  12  6  1  5  11  17   -6  19\n",
       "8          Manchester United  13  5  3  5  21  22   -1  18\n",
       "9   Brighton and Hove Albion  13  4  6  3  12  14   -2  18\n",
       "10            Leicester City  13  5  3  5  20  23   -3  18\n",
       "11                 Brentford  13  4  4  5  17  17    0  16\n",
       "12            Crystal Palace  14  3  7  4  19  20   -1  16\n",
       "13               Aston Villa  13  5  1  7  18  21   -3  16\n",
       "14                   Everton  13  4  3  6  16  20   -4  15\n",
       "15              Leeds United  14  3  6  5  13  20   -7  15\n",
       "16               Southampton  13  3  5  5  11  18   -7  14\n",
       "17                   Watford  13  4  1  8  18  24   -6  13\n",
       "18              Norwich City  14  2  4  8   8  28  -20  10\n",
       "19                   Burnley  12  1  6  5  14  20   -6   9\n",
       "20          Newcastle United  14  0  7  7  16  30  -14   7"
      ]
     },
     "execution_count": 16,
     "metadata": {},
     "output_type": "execute_result"
    }
   ],
   "source": [
    "premier_league_table = pd.DataFrame(l, columns = table_column_names[:10])\n",
    "premier_league_table.set_index('#', inplace = True)\n",
    "premier_league_table"
   ]
  },
  {
   "cell_type": "code",
   "execution_count": 17,
   "metadata": {},
   "outputs": [],
   "source": [
    "la_liga = requests.get('https://www.skysports.com/la-liga-table')"
   ]
  },
  {
   "cell_type": "code",
   "execution_count": 18,
   "metadata": {},
   "outputs": [],
   "source": [
    "la_liga_soup = bs(la_liga.content, 'lxml')\n",
    "liga_table = la_liga_soup.select('table')\n",
    "liga_columns = la_liga_soup.find_all('th')\n",
    "liga_columns_names = [name.string for name in liga_columns]\n",
    "liga_rows = la_liga_soup.find('tbody').find_all('tr')"
   ]
  },
  {
   "cell_type": "code",
   "execution_count": 19,
   "metadata": {},
   "outputs": [
    {
     "name": "stdout",
     "output_type": "stream",
     "text": [
      "['1', 'Real Madrid', '14', '10', '3', '1', '34', '15', '19', '33']\n"
     ]
    }
   ],
   "source": [
    "l = []\n",
    "for tr in liga_rows:\n",
    "    td = tr.find_all('td')\n",
    "    row = [str(tr.get_text()).strip() for tr in td] \n",
    "    l.append(row[:10])\n",
    "print(l[0])    "
   ]
  },
  {
   "cell_type": "code",
   "execution_count": 20,
   "metadata": {},
   "outputs": [
    {
     "name": "stdout",
     "output_type": "stream",
     "text": [
      "               Team  Pl   W  D  L   F   A   GD Pts\n",
      "#                                                 \n",
      "1       Real Madrid  14  10  3  1  34  15   19  33\n",
      "2   Atletico Madrid  14   8  5  1  26  14   12  29\n",
      "3     Real Sociedad  15   8  5  2  19  11    8  29\n",
      "4           Sevilla  14   8  4  2  24  11   13  28\n",
      "5        Real Betis  15   8  3  4  25  18    7  27\n",
      "6    Rayo Vallecano  15   7  3  5  23  16    7  24\n",
      "7         Barcelona  14   6  5  3  23  16    7  23\n",
      "8   Athletic Bilbao  14   4  8  2  13  10    3  20\n",
      "9          Espanyol  15   5  5  5  15  14    1  20\n",
      "10          Osasuna  15   5  5  5  15  19   -4  20\n",
      "11         Valencia  15   4  7  4  22  21    1  19\n",
      "12       Villarreal  14   3  7  4  16  16    0  16\n",
      "13       Celta Vigo  15   4  4  7  16  19   -3  16\n",
      "14    Real Mallorca  15   3  7  5  14  22   -8  16\n",
      "15           Alaves  14   4  2  8  11  19   -8  14\n",
      "16          Granada  14   2  6  6  14  22   -8  12\n",
      "17            Elche  15   2  6  7  12  21   -9  12\n",
      "18            Cadiz  15   2  6  7  13  27  -14  12\n",
      "19           Getafe  15   2  4  9  10  19   -9  10\n",
      "20          Levante  15   0  7  8  13  28  -15   7\n"
     ]
    }
   ],
   "source": [
    "la_liga_table = pd.DataFrame(l, columns = liga_columns_names[:10])\n",
    "la_liga_table.set_index('#', inplace = True)\n",
    "print(la_liga_table)"
   ]
  },
  {
   "cell_type": "code",
   "execution_count": null,
   "metadata": {},
   "outputs": [],
   "source": []
  }
 ],
 "metadata": {
  "kernelspec": {
   "display_name": "Python 3",
   "language": "python",
   "name": "python3"
  },
  "language_info": {
   "codemirror_mode": {
    "name": "ipython",
    "version": 3
   },
   "file_extension": ".py",
   "mimetype": "text/x-python",
   "name": "python",
   "nbconvert_exporter": "python",
   "pygments_lexer": "ipython3",
   "version": "3.7.4"
  }
 },
 "nbformat": 4,
 "nbformat_minor": 2
}
